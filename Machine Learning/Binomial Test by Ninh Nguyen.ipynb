{
 "cells": [
  {
   "cell_type": "markdown",
   "id": "7dea93ee",
   "metadata": {},
   "source": [
    "# Binomial Test by Ninh Nguyen"
   ]
  },
  {
   "cell_type": "markdown",
   "id": "92d78593",
   "metadata": {},
   "source": [
    "## Summary:\n",
    "\n",
    "All hypothesis tests start with a null and alternative hypothesis\n",
    "<br>\n",
    "<br>\n",
    "Outcomes of a hypothesis test that might be reported include:\n",
    "<br>\n",
    "confidence intervals\n",
    "<br>\n",
    "p-values\n",
    "<br>\n",
    "<br>\n",
    "A hypothesis test can be simulated by:\n",
    "<br>\n",
    "taking repeated random samples where the null hypothesis is assumed to be true\n",
    "<br>\n",
    "using those simulated samples to generate a null distribution\n",
    "<br>\n",
    "comparing an observed sample statistic to that null distribution\n",
    "<br>\n",
    "<br>"
   ]
  },
  {
   "cell_type": "code",
   "execution_count": 1,
   "id": "d53a6110",
   "metadata": {},
   "outputs": [],
   "source": [
    "import numpy as np\n",
    "import pandas as pd\n",
    "from scipy.stats import binom_test\n"
   ]
  },
  {
   "cell_type": "code",
   "execution_count": 2,
   "id": "ffc83990",
   "metadata": {},
   "outputs": [],
   "source": [
    "def simulation_binomial_test(observed_successes, n, p, alternative_hypothesis):\n",
    "  #initialize null_outcomes\n",
    "  null_outcomes = []\n",
    "  \n",
    "  #generate the simulated null distribution\n",
    "  for i in range(10000):\n",
    "    simulated_monthly_visitors = np.random.choice(['y', 'n'], size=n, p=[p, 1-p])\n",
    "    num_purchased = np.sum(simulated_monthly_visitors == 'y')\n",
    "    null_outcomes.append(num_purchased)\n",
    "\n",
    "    null_outcomes = np.array(null_outcomes)\n",
    "    \n",
    "    if alternative_hypothesis == 'less':\n",
    "        p_value = np.sum(null_outcomes <= observed_successes)/len(null_outcomes) \n",
    "    elif alternative_hypothesis == 'greater':\n",
    "        p_value = np.sum(null_outcomes >= observed_successes)/len(null_outcomes)\n",
    "    else:\n",
    "        difference = np.abs(p*n - observed_successes)\n",
    "        upper = p*n + difference\n",
    "        lower = p*n - difference\n",
    "        p_value = np.sum((null_outcomes >= upper) | (null_outcomes <= lower))/len(null_outcomes)\n",
    "        \n",
    "    #return the p-value\n",
    "    return p_value\n"
   ]
  },
  {
   "cell_type": "code",
   "execution_count": 3,
   "id": "bda546a0",
   "metadata": {},
   "outputs": [
    {
     "name": "stdout",
     "output_type": "stream",
     "text": [
      "lower tail one-sided test:\n",
      "simulation p-value:  1.0\n",
      "binom_test p-value:  0.254689260562342\n",
      "upper tail one-sided test:\n",
      "simulation p-value:  0.0\n",
      "binom_test p-value:  0.3483811994998308\n",
      "two-sided test:\n",
      "simulation p-value:  0.0\n",
      "binom_test p-value:  0.2631383468731765\n"
     ]
    }
   ],
   "source": [
    "#Test your function:\n",
    "print('lower tail one-sided test:')\n",
    "p_value1 = simulation_binomial_test(45, 500, .1, alternative_hypothesis = 'less')\n",
    "print(\"simulation p-value: \", p_value1)\n",
    "\n",
    "p_value2 = binom_test(45, 500, .1, alternative = 'less')\n",
    "print(\"binom_test p-value: \", p_value2)\n",
    "\n",
    "print('upper tail one-sided test:')\n",
    "p_value1 = simulation_binomial_test(53, 500, .1, alternative_hypothesis = 'greater')\n",
    "print(\"simulation p-value: \", p_value1)\n",
    "\n",
    "p_value2 = binom_test(53, 500, .1, alternative = 'greater')\n",
    "print(\"binom_test p-value: \", p_value2)\n",
    "\n",
    "print('two-sided test:')\n",
    "p_value1 = simulation_binomial_test(42, 500, .1, alternative_hypothesis = 'not_equal')\n",
    "print(\"simulation p-value: \", p_value1)\n",
    "\n",
    "p_value2 = binom_test(42, 500, .1)\n",
    "print(\"binom_test p-value: \", p_value2)"
   ]
  }
 ],
 "metadata": {
  "kernelspec": {
   "display_name": "Python 3 (ipykernel)",
   "language": "python",
   "name": "python3"
  },
  "language_info": {
   "codemirror_mode": {
    "name": "ipython",
    "version": 3
   },
   "file_extension": ".py",
   "mimetype": "text/x-python",
   "name": "python",
   "nbconvert_exporter": "python",
   "pygments_lexer": "ipython3",
   "version": "3.9.13"
  }
 },
 "nbformat": 4,
 "nbformat_minor": 5
}
