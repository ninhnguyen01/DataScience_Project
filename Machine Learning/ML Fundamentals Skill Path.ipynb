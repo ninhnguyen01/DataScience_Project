{
 "cells": [
  {
   "cell_type": "markdown",
   "id": "e3f4807a",
   "metadata": {},
   "source": [
    "# ML Fundamentals Skill Path"
   ]
  },
  {
   "cell_type": "code",
   "execution_count": null,
   "id": "fb0cc61b",
   "metadata": {},
   "outputs": [],
   "source": [
    "import numpy as np\n",
    "import pandas as pd\n",
    "from sklearn.linear_model import LinearRegression\n",
    "\n",
    "# Load the data\n",
    "housing_data = pd.read_csv('housing_data.csv')\n",
    "X = housing_data[['Sq ft', 'Burglaries']]\n",
    "y = housing_data['Rent']\n",
    "\n",
    "# Create the model\n",
    "reg = LinearRegression()\n",
    "\n",
    "# Train the model\n",
    "reg.fit(X, y)\n",
    "\n",
    "square_footage = 1250\n",
    "number_of_burglaries = 2\n",
    "\n",
    "y_pred = reg.predict(np.array([square_footage, number_of_burglaries]).reshape(1, 2))\n",
    "\n",
    "print(y_pred)\n"
   ]
  },
  {
   "cell_type": "markdown",
   "id": "e7451769",
   "metadata": {},
   "source": [
    "### Supervised Learning: Classification"
   ]
  },
  {
   "cell_type": "code",
   "execution_count": null,
   "id": "bd08e85e",
   "metadata": {},
   "outputs": [],
   "source": [
    "import numpy as np\n",
    "import pandas as pd\n",
    "from sklearn.neighbors import KNeighborsClassifier\n",
    "\n",
    "# Load the data\n",
    "photo_id_times = pd.read_csv('photo_id_times.csv')\n",
    "\n",
    "# Separate the data into independent and dependent variables\n",
    "X = np.array(photo_id_times['Time to id photo']).reshape(-1, 1)\n",
    "y = photo_id_times['Class']\n",
    "\n",
    "# Create a model and fit it to the data\n",
    "neigh = KNeighborsClassifier(n_neighbors=3)\n",
    "neigh.fit(X, y)\n",
    "\n",
    "time_to_identify_picture = 5\n",
    "\n",
    "# Make a prediction based on how long it takes to identify a picture\n",
    "y_pred = neigh.predict(np.array(time_to_identify_picture).reshape(1, -1))\n",
    "\n",
    "if y_pred == 1:\n",
    "    print(\"We think you're a robot.\")\n",
    "else:\n",
    "    print(\"Welcome, human!\")\n"
   ]
  },
  {
   "cell_type": "markdown",
   "id": "457c48a6",
   "metadata": {},
   "source": [
    "### Unsupervised Learning"
   ]
  },
  {
   "cell_type": "code",
   "execution_count": null,
   "id": "c60c3adc",
   "metadata": {},
   "outputs": [],
   "source": [
    "import numpy as np\n",
    "import pandas as pd\n",
    "from sklearn.cluster import KMeans\n",
    "import codecademylib3\n",
    "from plot import plot_clusters\n",
    "\n",
    "# Load the data\n",
    "media_usage = pd.read_csv('media_usage.csv')\n",
    "\n",
    "# Create the model\n",
    "kmeans = KMeans(n_clusters=3)\n",
    "\n",
    "# Fit the model to the data\n",
    "kmeans.fit(media_usage)\n",
    "\n",
    "labels = kmeans.predict(media_usage)\n",
    "\n",
    "# Plot the clusters\n",
    "plot_clusters(media_usage, labels)\n"
   ]
  }
 ],
 "metadata": {
  "kernelspec": {
   "display_name": "Python 3 (ipykernel)",
   "language": "python",
   "name": "python3"
  },
  "language_info": {
   "codemirror_mode": {
    "name": "ipython",
    "version": 3
   },
   "file_extension": ".py",
   "mimetype": "text/x-python",
   "name": "python",
   "nbconvert_exporter": "python",
   "pygments_lexer": "ipython3",
   "version": "3.9.13"
  }
 },
 "nbformat": 4,
 "nbformat_minor": 5
}
